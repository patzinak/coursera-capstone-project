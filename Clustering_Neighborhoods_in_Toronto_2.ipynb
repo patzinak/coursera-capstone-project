{
    "nbformat_minor": 1, 
    "cells": [
        {
            "source": "# Segmenting and Clustering Neighborhoods in Toronto\n## Part 2", 
            "cell_type": "markdown", 
            "metadata": {
                "collapsed": true
            }
        }, 
        {
            "source": "#### Scrape the Wikipedia page.", 
            "cell_type": "markdown", 
            "metadata": {}
        }, 
        {
            "execution_count": 1, 
            "cell_type": "code", 
            "metadata": {}, 
            "outputs": [], 
            "source": "# Import libraries.\n\nimport numpy as np\nimport pandas as pd\nimport requests\nfrom bs4 import BeautifulSoup as bs"
        }, 
        {
            "execution_count": 2, 
            "cell_type": "code", 
            "metadata": {
                "scrolled": false
            }, 
            "outputs": [
                {
                    "output_type": "stream", 
                    "name": "stdout", 
                    "text": "The shape of the dataframe: (103, 3).\n"
                }, 
                {
                    "execution_count": 2, 
                    "metadata": {}, 
                    "data": {
                        "text/html": "<div>\n<style scoped>\n    .dataframe tbody tr th:only-of-type {\n        vertical-align: middle;\n    }\n\n    .dataframe tbody tr th {\n        vertical-align: top;\n    }\n\n    .dataframe thead th {\n        text-align: right;\n    }\n</style>\n<table border=\"1\" class=\"dataframe\">\n  <thead>\n    <tr style=\"text-align: right;\">\n      <th></th>\n      <th>PostalCode</th>\n      <th>Borough</th>\n      <th>Neighbourhood</th>\n    </tr>\n  </thead>\n  <tbody>\n    <tr>\n      <th>0</th>\n      <td>M1B</td>\n      <td>Scarborough</td>\n      <td>Malvern, Rouge</td>\n    </tr>\n    <tr>\n      <th>1</th>\n      <td>M1C</td>\n      <td>Scarborough</td>\n      <td>Highland Creek, Port Union, Rouge Hill</td>\n    </tr>\n    <tr>\n      <th>2</th>\n      <td>M1E</td>\n      <td>Scarborough</td>\n      <td>Guildwood, Morningside, West Hill</td>\n    </tr>\n    <tr>\n      <th>3</th>\n      <td>M1G</td>\n      <td>Scarborough</td>\n      <td>Woburn</td>\n    </tr>\n    <tr>\n      <th>4</th>\n      <td>M1H</td>\n      <td>Scarborough</td>\n      <td>Cedarbrae</td>\n    </tr>\n    <tr>\n      <th>5</th>\n      <td>M1J</td>\n      <td>Scarborough</td>\n      <td>Scarborough Village</td>\n    </tr>\n    <tr>\n      <th>6</th>\n      <td>M1K</td>\n      <td>Scarborough</td>\n      <td>East Birchmount Park, Ionview, Kennedy Park</td>\n    </tr>\n    <tr>\n      <th>7</th>\n      <td>M1L</td>\n      <td>Scarborough</td>\n      <td>Clairlea, Golden Mile, Oakridge</td>\n    </tr>\n    <tr>\n      <th>8</th>\n      <td>M1M</td>\n      <td>Scarborough</td>\n      <td>Cliffcrest, Cliffside, Scarborough Village West</td>\n    </tr>\n    <tr>\n      <th>9</th>\n      <td>M1N</td>\n      <td>Scarborough</td>\n      <td>Birch Cliff, Cliffside West</td>\n    </tr>\n  </tbody>\n</table>\n</div>", 
                        "text/plain": "  PostalCode      Borough                                    Neighbourhood\n0        M1B  Scarborough                                   Malvern, Rouge\n1        M1C  Scarborough           Highland Creek, Port Union, Rouge Hill\n2        M1E  Scarborough                Guildwood, Morningside, West Hill\n3        M1G  Scarborough                                           Woburn\n4        M1H  Scarborough                                        Cedarbrae\n5        M1J  Scarborough                              Scarborough Village\n6        M1K  Scarborough      East Birchmount Park, Ionview, Kennedy Park\n7        M1L  Scarborough                  Clairlea, Golden Mile, Oakridge\n8        M1M  Scarborough  Cliffcrest, Cliffside, Scarborough Village West\n9        M1N  Scarborough                      Birch Cliff, Cliffside West"
                    }, 
                    "output_type": "execute_result"
                }
            ], 
            "source": "source = requests.get('https://en.wikipedia.org/wiki/List_of_postal_codes_of_Canada:_M').text\nsoup = bs(source, 'lxml')\n\n# Use tag 'table' and class 'wikitable sortable'.\ntable = soup.find('table', class_='wikitable sortable')\n\n# Group by tag <tr>, within this tag group by <th> for the table headers and by <td> for the table entries.\npostcodes = table.find_all('tr')\n\n# Create and populate a pandas dataframe.\ndf = pd.DataFrame()\n\ncolumns = [column_name.text.strip('\\n') for column_name in postcodes[0].find_all('th')]\ncolumns[0] = 'PostalCode'\ndf = pd.DataFrame(columns=columns)\nfor postcode in postcodes[1:]:\n    df.loc[len(df)] = [value.text.strip('\\n') for value in postcode.find_all('td')]\n    \n# Ignore all cells with the borough that is 'Not assigned'.\ndf = df[df['Borough'] != 'Not assigned']\n\n# Rename 'Not assigned' neighborhoods with the corresponding borough names.\ndf.loc[df['Neighbourhood'] == 'Not assigned', 'Neighbourhood'] = np.nan\ndf['Neighbourhood'].fillna(value=df['Borough'], inplace=True)\n\n# Combine neighborhoods with the same postal codes.\ndf = df.groupby(['PostalCode', 'Borough'])['Neighbourhood'].apply(sorted).apply(', '.join).reset_index()\n\n# Print the number of rows of the dataframe.\nprint('The shape of the dataframe: %s.' % str(df.shape))\ndf.head(10)"
        }, 
        {
            "source": "#### Get the latitude and the longitude coordinates of each neighborhood.", 
            "cell_type": "markdown", 
            "metadata": {}
        }, 
        {
            "execution_count": 3, 
            "cell_type": "code", 
            "metadata": {}, 
            "outputs": [], 
            "source": "# Import libraries and create a geopy agent.\n\nimport time\nfrom geopy.geocoders import Nominatim\ngeolocator = Nominatim(user_agent=\"toronto_agent\")"
        }, 
        {
            "source": "Let's try to retrive coordinates of a postal code in Toronto.", 
            "cell_type": "markdown", 
            "metadata": {}
        }, 
        {
            "execution_count": 4, 
            "cell_type": "code", 
            "metadata": {}, 
            "outputs": [
                {
                    "output_type": "stream", 
                    "name": "stdout", 
                    "text": "43.8091955 -79.2217008\n"
                }
            ], 
            "source": "address = 'M1B, Malvern, Rouge, Toronto, Canada'\n\nlocation = geolocator.geocode(address)\nlatitude = location.latitude\nlongitude = location.longitude\nprint(latitude, longitude)"
        }, 
        {
            "source": "Get the coordinates for all postal codes.", 
            "cell_type": "markdown", 
            "metadata": {}
        }, 
        {
            "execution_count": 5, 
            "cell_type": "code", 
            "metadata": {}, 
            "outputs": [], 
            "source": "df['Latitude'] = np.nan\ndf['Longitude'] = np.nan"
        }, 
        {
            "execution_count": 6, 
            "cell_type": "code", 
            "metadata": {}, 
            "outputs": [], 
            "source": "for k, postal_code in enumerate(df['PostalCode']):\n    location = None\n    tries = 2\n    while location is None and tries:\n        try:\n            location = geolocator.geocode('%s, Toronto, Canada' % postal_code)\n            time.sleep(1)\n            df.iloc[k, df.columns.get_loc('Latitude')] = location.latitude\n            df.iloc[k, df.columns.get_loc('Longitude')] = location.longitude\n        except:\n            tries -= 1"
        }, 
        {
            "execution_count": 7, 
            "cell_type": "code", 
            "metadata": {}, 
            "outputs": [
                {
                    "execution_count": 7, 
                    "metadata": {}, 
                    "data": {
                        "text/html": "<div>\n<style scoped>\n    .dataframe tbody tr th:only-of-type {\n        vertical-align: middle;\n    }\n\n    .dataframe tbody tr th {\n        vertical-align: top;\n    }\n\n    .dataframe thead th {\n        text-align: right;\n    }\n</style>\n<table border=\"1\" class=\"dataframe\">\n  <thead>\n    <tr style=\"text-align: right;\">\n      <th></th>\n      <th>PostalCode</th>\n      <th>Borough</th>\n      <th>Neighbourhood</th>\n      <th>Latitude</th>\n      <th>Longitude</th>\n    </tr>\n  </thead>\n  <tbody>\n    <tr>\n      <th>0</th>\n      <td>M1B</td>\n      <td>Scarborough</td>\n      <td>Malvern, Rouge</td>\n      <td>43.653963</td>\n      <td>-79.387207</td>\n    </tr>\n    <tr>\n      <th>1</th>\n      <td>M1C</td>\n      <td>Scarborough</td>\n      <td>Highland Creek, Port Union, Rouge Hill</td>\n      <td>43.653963</td>\n      <td>-79.387207</td>\n    </tr>\n    <tr>\n      <th>2</th>\n      <td>M1E</td>\n      <td>Scarborough</td>\n      <td>Guildwood, Morningside, West Hill</td>\n      <td>NaN</td>\n      <td>NaN</td>\n    </tr>\n    <tr>\n      <th>3</th>\n      <td>M1G</td>\n      <td>Scarborough</td>\n      <td>Woburn</td>\n      <td>43.760778</td>\n      <td>-79.223732</td>\n    </tr>\n    <tr>\n      <th>4</th>\n      <td>M1H</td>\n      <td>Scarborough</td>\n      <td>Cedarbrae</td>\n      <td>NaN</td>\n      <td>NaN</td>\n    </tr>\n    <tr>\n      <th>5</th>\n      <td>M1J</td>\n      <td>Scarborough</td>\n      <td>Scarborough Village</td>\n      <td>NaN</td>\n      <td>NaN</td>\n    </tr>\n    <tr>\n      <th>6</th>\n      <td>M1K</td>\n      <td>Scarborough</td>\n      <td>East Birchmount Park, Ionview, Kennedy Park</td>\n      <td>NaN</td>\n      <td>NaN</td>\n    </tr>\n    <tr>\n      <th>7</th>\n      <td>M1L</td>\n      <td>Scarborough</td>\n      <td>Clairlea, Golden Mile, Oakridge</td>\n      <td>NaN</td>\n      <td>NaN</td>\n    </tr>\n    <tr>\n      <th>8</th>\n      <td>M1M</td>\n      <td>Scarborough</td>\n      <td>Cliffcrest, Cliffside, Scarborough Village West</td>\n      <td>NaN</td>\n      <td>NaN</td>\n    </tr>\n    <tr>\n      <th>9</th>\n      <td>M1N</td>\n      <td>Scarborough</td>\n      <td>Birch Cliff, Cliffside West</td>\n      <td>NaN</td>\n      <td>NaN</td>\n    </tr>\n  </tbody>\n</table>\n</div>", 
                        "text/plain": "  PostalCode      Borough                                    Neighbourhood  \\\n0        M1B  Scarborough                                   Malvern, Rouge   \n1        M1C  Scarborough           Highland Creek, Port Union, Rouge Hill   \n2        M1E  Scarborough                Guildwood, Morningside, West Hill   \n3        M1G  Scarborough                                           Woburn   \n4        M1H  Scarborough                                        Cedarbrae   \n5        M1J  Scarborough                              Scarborough Village   \n6        M1K  Scarborough      East Birchmount Park, Ionview, Kennedy Park   \n7        M1L  Scarborough                  Clairlea, Golden Mile, Oakridge   \n8        M1M  Scarborough  Cliffcrest, Cliffside, Scarborough Village West   \n9        M1N  Scarborough                      Birch Cliff, Cliffside West   \n\n    Latitude  Longitude  \n0  43.653963 -79.387207  \n1  43.653963 -79.387207  \n2        NaN        NaN  \n3  43.760778 -79.223732  \n4        NaN        NaN  \n5        NaN        NaN  \n6        NaN        NaN  \n7        NaN        NaN  \n8        NaN        NaN  \n9        NaN        NaN  "
                    }, 
                    "output_type": "execute_result"
                }
            ], 
            "source": "df.head(10)"
        }, 
        {
            "execution_count": 8, 
            "cell_type": "code", 
            "metadata": {
                "scrolled": true
            }, 
            "outputs": [
                {
                    "execution_count": 8, 
                    "metadata": {}, 
                    "data": {
                        "text/plain": "22"
                    }, 
                    "output_type": "execute_result"
                }
            ], 
            "source": "df['Latitude'].count()"
        }, 
        {
            "source": "This did not work well...\n\nLet's try to scrape Google.", 
            "cell_type": "markdown", 
            "metadata": {}
        }, 
        {
            "execution_count": 9, 
            "cell_type": "code", 
            "metadata": {}, 
            "outputs": [], 
            "source": "source = requests.get('http://www.google.com/search?q=M1E+Toronto+coordinates').text"
        }, 
        {
            "execution_count": 10, 
            "cell_type": "code", 
            "metadata": {}, 
            "outputs": [
                {
                    "output_type": "stream", 
                    "name": "stdout", 
                    "text": "['43.7635726', '-79.1887115']\n"
                }
            ], 
            "source": "pos = -1\nwhile pos == -1:\n    pos = source.find(r'href=\"http://maps.google.com/maps?')\n    source = source[pos+1:]\n    temp = source[:200]\n    pos = temp.find(r'll=')\n\nprint(temp[pos+3:].split('&amp;')[0].split(','))"
        }, 
        {
            "source": "Let's write a helpher function.", 
            "cell_type": "markdown", 
            "metadata": {}
        }, 
        {
            "execution_count": 11, 
            "cell_type": "code", 
            "metadata": {}, 
            "outputs": [], 
            "source": "def coordinates(request):\n    source = requests.get('http://www.google.com/search?q=%s' % request).text\n    pos = -1\n    while pos == -1:\n        pos = source.find(r'href=\"http://maps.google.com/maps?')\n        if pos == -1:\n            return [np.nan, np.nan]\n        source = source[pos+1:]\n        temp = source[:200]\n        pos = temp.find(r'll=')\n\n    return [float(value) for value in temp[pos+3:].split('&amp;')[0].split(',')]"
        }, 
        {
            "execution_count": 12, 
            "cell_type": "code", 
            "metadata": {
                "scrolled": true
            }, 
            "outputs": [
                {
                    "output_type": "stream", 
                    "name": "stdout", 
                    "text": "[43.773136, -79.2394761]\n"
                }
            ], 
            "source": "print(coordinates('M1H+Canada+coordinates'))"
        }, 
        {
            "source": "Get the coordinates for all postal codes.", 
            "cell_type": "markdown", 
            "metadata": {}
        }, 
        {
            "execution_count": 15, 
            "cell_type": "code", 
            "metadata": {}, 
            "outputs": [
                {
                    "output_type": "stream", 
                    "name": "stdout", 
                    "text": "M1N: [43.692657, -79.2648481]\nM2P: [43.7527583, -79.4000493]\nM4A: [43.7258823, -79.3155716]\nM4B: [43.7063972, -79.309937]\nM4C: [43.6953439, -79.3183887]\nM4E: [43.6763574, -79.2930312]\nM4G: [43.7090604, -79.3634517]\nM4H: [43.7053689, -79.3493719]\nM4J: [43.685347, -79.3381065]\nM4K: [43.6795571, -79.352188]\nM4L: [43.6689985, -79.3155716]\nM4M: [43.6595255, -79.340923]\nM4N: [43.7280205, -79.3887901]\nM4P: [43.7127511, -79.3901975]\nM4R: [43.7153834, -79.4056784]\nM4S: [43.7043244, -79.3887901]\nM4T: [43.6895743, -79.3831599]\nM4V: [43.6864123, -79.4000493]\nM4W: [43.6795626, -79.3775294]\nM4Y: [43.6658599, -79.3831599]\nM5A: [43.6542599, -79.3606359]\nM5B: [43.6571618, -79.3789371]\nM5C: [43.6514939, -79.3754179]\nM5G: [43.6579524, -79.3873826]\nM5H: [43.6505712, -79.3845675]\nM5K: [43.6471768, -79.3815764]\nM5L: [43.6481985, -79.3798169]\nM5M: [43.7332825, -79.4197497]\nM5N: [43.7116948, -79.4169356]\nM5P: [43.6969476, -79.4113072]\nM5R: [43.6727097, -79.4056784]\nM5S: [43.6626956, -79.4000493]\nM5T: [43.6532057, -79.4000493]\nM5W: [43.6464352, -79.374846]\nM5X: [43.6484292, -79.3822802]\nM6A: [43.718518, -79.4647633]\nM6B: [43.709577, -79.4450726]\nM6C: [43.6937813, -79.4281914]\nM6E: [43.6890256, -79.453512]\nM6G: [43.669542, -79.4225637]\nM6H: [43.6690051, -79.4422593]\nM6J: [43.6479267, -79.4197497]\nM6L: [43.7137562, -79.4900738]\nM6M: [43.6911158, -79.4760133]\nM6R: [43.6489597, -79.456325]\nM7R: [43.6369656, -79.615819]\nM7Y: [43.6627439, -79.321558]\nM8V: [43.6056466, -79.5013207]\nM8W: [43.6024137, -79.5434841]\nM8X: [43.6536536, -79.5069436]\nM8Y: [43.6362579, -79.4985091]\nM8Z: [43.6288408, -79.5209994]\nM9A: [43.6678556, -79.5322424]\nM9B: [43.6509432, -79.5547244]\nM9L: [43.7563033, -79.5659633]\nM9M: [43.7247659, -79.5322424]\nM9N: [43.706876, -79.5181884]\nM9P: [43.696319, -79.5322424]\nM9V: [43.7394164, -79.5884369]\n"
                }
            ], 
            "source": "for k, postal_code in enumerate(df['PostalCode']):\n    if not np.isfinite(df.iloc[k, df.columns.get_loc('Latitude')]):\n        location = coordinates('%s+Canada+postal+code+coordinates' % postal_code)\n        print('%s: %s' %(postal_code, location))\n        df.iloc[k, df.columns.get_loc('Latitude')] = location[0]\n        df.iloc[k, df.columns.get_loc('Longitude')] = location[1]\n        time.sleep(1)"
        }, 
        {
            "execution_count": 19, 
            "cell_type": "code", 
            "metadata": {}, 
            "outputs": [
                {
                    "execution_count": 19, 
                    "metadata": {}, 
                    "data": {
                        "text/html": "<div>\n<style scoped>\n    .dataframe tbody tr th:only-of-type {\n        vertical-align: middle;\n    }\n\n    .dataframe tbody tr th {\n        vertical-align: top;\n    }\n\n    .dataframe thead th {\n        text-align: right;\n    }\n</style>\n<table border=\"1\" class=\"dataframe\">\n  <thead>\n    <tr style=\"text-align: right;\">\n      <th></th>\n      <th>PostalCode</th>\n      <th>Borough</th>\n      <th>Neighbourhood</th>\n      <th>Latitude</th>\n      <th>Longitude</th>\n    </tr>\n  </thead>\n  <tbody>\n    <tr>\n      <th>0</th>\n      <td>M1B</td>\n      <td>Scarborough</td>\n      <td>Malvern, Rouge</td>\n      <td>43.653963</td>\n      <td>-79.387207</td>\n    </tr>\n    <tr>\n      <th>1</th>\n      <td>M1C</td>\n      <td>Scarborough</td>\n      <td>Highland Creek, Port Union, Rouge Hill</td>\n      <td>43.653963</td>\n      <td>-79.387207</td>\n    </tr>\n    <tr>\n      <th>2</th>\n      <td>M1E</td>\n      <td>Scarborough</td>\n      <td>Guildwood, Morningside, West Hill</td>\n      <td>43.763573</td>\n      <td>-79.188711</td>\n    </tr>\n    <tr>\n      <th>3</th>\n      <td>M1G</td>\n      <td>Scarborough</td>\n      <td>Woburn</td>\n      <td>43.760778</td>\n      <td>-79.223732</td>\n    </tr>\n    <tr>\n      <th>4</th>\n      <td>M1H</td>\n      <td>Scarborough</td>\n      <td>Cedarbrae</td>\n      <td>43.773136</td>\n      <td>-79.239476</td>\n    </tr>\n    <tr>\n      <th>5</th>\n      <td>M1J</td>\n      <td>Scarborough</td>\n      <td>Scarborough Village</td>\n      <td>43.744734</td>\n      <td>-79.239476</td>\n    </tr>\n    <tr>\n      <th>6</th>\n      <td>M1K</td>\n      <td>Scarborough</td>\n      <td>East Birchmount Park, Ionview, Kennedy Park</td>\n      <td>43.727929</td>\n      <td>-79.262029</td>\n    </tr>\n    <tr>\n      <th>7</th>\n      <td>M1L</td>\n      <td>Scarborough</td>\n      <td>Clairlea, Golden Mile, Oakridge</td>\n      <td>43.711112</td>\n      <td>-79.284577</td>\n    </tr>\n    <tr>\n      <th>8</th>\n      <td>M1M</td>\n      <td>Scarborough</td>\n      <td>Cliffcrest, Cliffside, Scarborough Village West</td>\n      <td>43.716316</td>\n      <td>-79.239476</td>\n    </tr>\n    <tr>\n      <th>9</th>\n      <td>M1N</td>\n      <td>Scarborough</td>\n      <td>Birch Cliff, Cliffside West</td>\n      <td>43.692657</td>\n      <td>-79.264848</td>\n    </tr>\n    <tr>\n      <th>10</th>\n      <td>M1P</td>\n      <td>Scarborough</td>\n      <td>Dorset Park, Scarborough Town Centre, Wexford ...</td>\n      <td>43.757410</td>\n      <td>-79.273304</td>\n    </tr>\n    <tr>\n      <th>11</th>\n      <td>M1R</td>\n      <td>Scarborough</td>\n      <td>Maryvale, Wexford</td>\n      <td>43.750071</td>\n      <td>-79.295849</td>\n    </tr>\n    <tr>\n      <th>12</th>\n      <td>M1S</td>\n      <td>Scarborough</td>\n      <td>Agincourt</td>\n      <td>43.794200</td>\n      <td>-79.262029</td>\n    </tr>\n    <tr>\n      <th>13</th>\n      <td>M1T</td>\n      <td>Scarborough</td>\n      <td>Clarks Corners, Sullivan, Tam O'Shanter</td>\n      <td>43.781638</td>\n      <td>-79.304302</td>\n    </tr>\n    <tr>\n      <th>14</th>\n      <td>M1V</td>\n      <td>Scarborough</td>\n      <td>Agincourt North, L'Amoreaux East, Milliken, St...</td>\n      <td>43.815252</td>\n      <td>-79.284577</td>\n    </tr>\n  </tbody>\n</table>\n</div>", 
                        "text/plain": "   PostalCode      Borough                                      Neighbourhood  \\\n0         M1B  Scarborough                                     Malvern, Rouge   \n1         M1C  Scarborough             Highland Creek, Port Union, Rouge Hill   \n2         M1E  Scarborough                  Guildwood, Morningside, West Hill   \n3         M1G  Scarborough                                             Woburn   \n4         M1H  Scarborough                                          Cedarbrae   \n5         M1J  Scarborough                                Scarborough Village   \n6         M1K  Scarborough        East Birchmount Park, Ionview, Kennedy Park   \n7         M1L  Scarborough                    Clairlea, Golden Mile, Oakridge   \n8         M1M  Scarborough    Cliffcrest, Cliffside, Scarborough Village West   \n9         M1N  Scarborough                        Birch Cliff, Cliffside West   \n10        M1P  Scarborough  Dorset Park, Scarborough Town Centre, Wexford ...   \n11        M1R  Scarborough                                  Maryvale, Wexford   \n12        M1S  Scarborough                                          Agincourt   \n13        M1T  Scarborough            Clarks Corners, Sullivan, Tam O'Shanter   \n14        M1V  Scarborough  Agincourt North, L'Amoreaux East, Milliken, St...   \n\n     Latitude  Longitude  \n0   43.653963 -79.387207  \n1   43.653963 -79.387207  \n2   43.763573 -79.188711  \n3   43.760778 -79.223732  \n4   43.773136 -79.239476  \n5   43.744734 -79.239476  \n6   43.727929 -79.262029  \n7   43.711112 -79.284577  \n8   43.716316 -79.239476  \n9   43.692657 -79.264848  \n10  43.757410 -79.273304  \n11  43.750071 -79.295849  \n12  43.794200 -79.262029  \n13  43.781638 -79.304302  \n14  43.815252 -79.284577  "
                    }, 
                    "output_type": "execute_result"
                }
            ], 
            "source": "df.head(15)"
        }, 
        {
            "execution_count": 20, 
            "cell_type": "code", 
            "metadata": {}, 
            "outputs": [
                {
                    "execution_count": 20, 
                    "metadata": {}, 
                    "data": {
                        "text/plain": "103"
                    }, 
                    "output_type": "execute_result"
                }
            ], 
            "source": "df['Latitude'].count()"
        }, 
        {
            "source": "Looks good!", 
            "cell_type": "markdown", 
            "metadata": {}
        }
    ], 
    "metadata": {
        "kernelspec": {
            "display_name": "Python 3.5", 
            "name": "python3", 
            "language": "python"
        }, 
        "language_info": {
            "mimetype": "text/x-python", 
            "nbconvert_exporter": "python", 
            "version": "3.5.5", 
            "name": "python", 
            "file_extension": ".py", 
            "pygments_lexer": "ipython3", 
            "codemirror_mode": {
                "version": 3, 
                "name": "ipython"
            }
        }
    }, 
    "nbformat": 4
}